{
 "cells": [
  {
   "cell_type": "code",
   "execution_count": 10,
   "metadata": {},
   "outputs": [],
   "source": [
    "from pathlib import Path\n",
    "\n",
    "def find_fire_detection_dir():\n",
    "    path = Path.cwd()\n",
    "    if path.name == \"MachineLearning\":\n",
    "        return path\n",
    "    for parent in path.parents:\n",
    "        if parent.name == \"MachineLearning\":\n",
    "            return parent\n",
    "    raise Exception(\"MachineLearning directory not found\")\n",
    "\n",
    "\n",
    "project_root = find_fire_detection_dir()\n",
    "src_folder_path = project_root / \"src\"\n",
    "weights_folder_path = project_root / \"weights\"\n",
    "test_data_folder_path = project_root / \"test_data\""
   ]
  },
  {
   "cell_type": "code",
   "execution_count": 11,
   "metadata": {},
   "outputs": [],
   "source": [
    "# A scrip that moves each best model from a specified folder to the folder of weights, then run the test and save the results in csv files\n",
    "import os\n",
    "import sys\n",
    "import shutil\n",
    "import subprocess\n",
    "import argparse\n",
    "import glob\n",
    "from pathlib import Path\n",
    "import pandas as pd\n",
    "\n",
    "\n",
    "model = \"x3d_xs.pth\"\n",
    "experiments_name = [\"x3d_xs 3-trained Cristian\", \"x3d_xs 4-trained Cristian\", \"x3d_xs all-trained Cristian\", \"x3d_xs 5-trained Grazia\"]\n",
    "test_command = \"python \" + str(src_folder_path / \"test.py\")  + \" --videos ../test_data/TEST_SET/ --results ../test_data/TEST_RESULTS/ --ground_truth ../test_data/GT_TEST_SET/ --model x3d_xs --clip_len 13 --clip_stride 13\""
   ]
  },
  {
   "cell_type": "code",
   "execution_count": 12,
   "metadata": {},
   "outputs": [
    {
     "name": "stderr",
     "output_type": "stream",
     "text": [
      "  0%|          | 0/4 [00:00<?, ?it/s]"
     ]
    },
    {
     "name": "stdout",
     "output_type": "stream",
     "text": [
      "Testing model: best_model_0.pth\n"
     ]
    }
   ],
   "source": [
    "from tqdm import tqdm\n",
    "\n",
    "for experiment_name in tqdm(experiments_name):\n",
    "    best_model_folder = src_folder_path / \"experiments\" / experiment_name\n",
    "    \n",
    "    if not best_model_folder.exists():\n",
    "        print(\"The folder {} doesn't exist\".format(best_model_folder))\n",
    "        continue\n",
    "\n",
    "    # Get all the files in best_model_folder that end with .pth and are called best_model, sort them\n",
    "    best_model_files = glob.glob(str(best_model_folder) + \"/best_model*.pth\")\n",
    "\n",
    "\n",
    "    best_model_files.sort(key=lambda x: int(x.split(\"_\")[-1].split(\".\")[0]))\n",
    "\n",
    "    \n",
    "    # Create pandas dataframe to store the results, the columns are the metrics\n",
    "    df = pd.DataFrame(columns=[\"best_model\", \"precision\", \"recall\", \"f-score\", \"and\", \"nand\", \"pfr\", \"mem\",\"fds\"])\n",
    "\n",
    "    # Delete the results folder and create a new one\n",
    "    shutil.rmtree(test_data_folder_path / \"TEST_RESULTS\")\n",
    "    os.mkdir(test_data_folder_path / \"TEST_RESULTS\")\n",
    "\n",
    "    for i,best_model in enumerate(best_model_files):\n",
    "        best_model = Path(best_model)\n",
    "        print(\"Testing model: {}/{}\".format(best_model.parent.name, best_model.name))\n",
    "        # Copy the best_model file in the weights folder and rename it as model\n",
    "        shutil.copy(best_model, weights_folder_path / model)\n",
    "\n",
    "        # Run the test and collect the output\n",
    "        output = subprocess.run(test_command.split(\" \"), capture_output=True)\n",
    "\n",
    "        # Get the metrics from the output and add them to the dataframe\n",
    "        metrics = pd.read_csv(\"../test_data/TEST_RESULTS/metrics.csv\")\n",
    "        df.loc[i] = [best_model.name, metrics[\"precision\"][0], metrics[\"recall\"][0], metrics[\"f-score\"][0], metrics[\"and\"][0], metrics[\"nand\"][0], metrics[\"pfr\"][0], metrics[\"mem\"][0], metrics[\"fds\"][0]]\n",
    "        # Delete the model from the weights folder\n",
    "        os.remove(weights_folder_path / model)\n",
    "\n",
    "        # Delete the results folder and create a new one\n",
    "        shutil.rmtree(test_data_folder_path / \"TEST_RESULTS\")\n",
    "        os.mkdir(test_data_folder_path / \"TEST_RESULTS\")\n",
    "\n",
    "    \n",
    "    # Save the dataframe in a csv file\n",
    "    df.to_csv(Path.cwd() / \"{}.csv\".format(experiment_name))"
   ]
  }
 ],
 "metadata": {
  "kernelspec": {
   "display_name": "Python 3.10.10 ('MachineLearning')",
   "language": "python",
   "name": "python3"
  },
  "language_info": {
   "codemirror_mode": {
    "name": "ipython",
    "version": 3
   },
   "file_extension": ".py",
   "mimetype": "text/x-python",
   "name": "python",
   "nbconvert_exporter": "python",
   "pygments_lexer": "ipython3",
   "version": "3.10.10"
  },
  "orig_nbformat": 4,
  "vscode": {
   "interpreter": {
    "hash": "3a2c952ceb315243f34ba302acbe0fb5218585a422897d4fb07b81cc17398136"
   }
  }
 },
 "nbformat": 4,
 "nbformat_minor": 2
}
