{
 "cells": [
  {
   "cell_type": "code",
   "execution_count": 1,
   "metadata": {},
   "outputs": [],
   "source": [
    "import os\n",
    "import pandas as pd\n",
    "\n",
    "# Definisci il percorso della cartella principale\n",
    "path = '../data/FRAMES'\n",
    "\n",
    "# Inizializza una lista per i dati del DataFrame\n",
    "data = []\n",
    "\n",
    "# Itera attraverso le cartelle di TRAINING_SET, VALIDATION_SET e TEST_SET\n",
    "for set_name in ['TRAINING_SET', 'VALIDATION_SET', 'TEST_SET']:\n",
    "    set_path = os.path.join(path, set_name)\n",
    "    if os.path.isdir(set_path):\n",
    "        # Itera attraverso le sottocartelle 0 e 1\n",
    "        for sub_folder in ['0', '1']:\n",
    "            sub_folder_path = os.path.join(set_path, sub_folder)\n",
    "            if os.path.isdir(sub_folder_path):\n",
    "                # Itera attraverso le sottocartelle all'interno di 0 e 1\n",
    "                for frame_folder in os.listdir(sub_folder_path):\n",
    "                    frame_folder_path = os.path.join(sub_folder_path, frame_folder)\n",
    "                    if os.path.isdir(frame_folder_path):\n",
    "                        # Conta il numero di file nella sottocartella\n",
    "                        num_frames = len(os.listdir(frame_folder_path))\n",
    "\n",
    "                        # Aggiungi i dati della cartella al DataFrame\n",
    "                        data.append({\n",
    "                            'Set': set_name,\n",
    "                            'Label': sub_folder,\n",
    "                            'NumFrames': num_frames,\n",
    "                            'Video': frame_folder.split('.')[0]\n",
    "                        })\n",
    "\n",
    "# Crea il DataFrame pandas\n",
    "df = pd.DataFrame(data)\n"
   ]
  },
  {
   "cell_type": "code",
   "execution_count": 2,
   "metadata": {},
   "outputs": [
    {
     "data": {
      "text/html": [
       "<div>\n",
       "<style scoped>\n",
       "    .dataframe tbody tr th:only-of-type {\n",
       "        vertical-align: middle;\n",
       "    }\n",
       "\n",
       "    .dataframe tbody tr th {\n",
       "        vertical-align: top;\n",
       "    }\n",
       "\n",
       "    .dataframe thead th {\n",
       "        text-align: right;\n",
       "    }\n",
       "</style>\n",
       "<table border=\"1\" class=\"dataframe\">\n",
       "  <thead>\n",
       "    <tr style=\"text-align: right;\">\n",
       "      <th></th>\n",
       "      <th>Set</th>\n",
       "      <th>Label</th>\n",
       "      <th>NumFrames</th>\n",
       "      <th>Video</th>\n",
       "    </tr>\n",
       "  </thead>\n",
       "  <tbody>\n",
       "    <tr>\n",
       "      <th>0</th>\n",
       "      <td>TRAINING_SET</td>\n",
       "      <td>0</td>\n",
       "      <td>453</td>\n",
       "      <td>Video1</td>\n",
       "    </tr>\n",
       "    <tr>\n",
       "      <th>1</th>\n",
       "      <td>TRAINING_SET</td>\n",
       "      <td>0</td>\n",
       "      <td>31</td>\n",
       "      <td>Video100</td>\n",
       "    </tr>\n",
       "    <tr>\n",
       "      <th>2</th>\n",
       "      <td>TRAINING_SET</td>\n",
       "      <td>0</td>\n",
       "      <td>85</td>\n",
       "      <td>Video101</td>\n",
       "    </tr>\n",
       "    <tr>\n",
       "      <th>3</th>\n",
       "      <td>TRAINING_SET</td>\n",
       "      <td>0</td>\n",
       "      <td>902</td>\n",
       "      <td>Video102</td>\n",
       "    </tr>\n",
       "    <tr>\n",
       "      <th>4</th>\n",
       "      <td>TRAINING_SET</td>\n",
       "      <td>0</td>\n",
       "      <td>902</td>\n",
       "      <td>Video103</td>\n",
       "    </tr>\n",
       "  </tbody>\n",
       "</table>\n",
       "</div>"
      ],
      "text/plain": [
       "            Set Label  NumFrames     Video\n",
       "0  TRAINING_SET     0        453    Video1\n",
       "1  TRAINING_SET     0         31  Video100\n",
       "2  TRAINING_SET     0         85  Video101\n",
       "3  TRAINING_SET     0        902  Video102\n",
       "4  TRAINING_SET     0        902  Video103"
      ]
     },
     "execution_count": 2,
     "metadata": {},
     "output_type": "execute_result"
    }
   ],
   "source": [
    "# Visualizza il DataFrame\n",
    "df.head()"
   ]
  },
  {
   "cell_type": "code",
   "execution_count": 3,
   "metadata": {},
   "outputs": [
    {
     "data": {
      "text/plain": [
       "3       2\n",
       "5       2\n",
       "6       3\n",
       "9       5\n",
       "10      3\n",
       "       ..\n",
       "901     1\n",
       "902    25\n",
       "903    74\n",
       "905     1\n",
       "989     1\n",
       "Name: NumFrames, Length: 113, dtype: int64"
      ]
     },
     "execution_count": 3,
     "metadata": {},
     "output_type": "execute_result"
    }
   ],
   "source": [
    "# Conta il numero di video per ogni numero di frame\n",
    "video_counts = df['NumFrames'].value_counts()\n",
    "video_counts = video_counts.sort_index(ascending=True)\n",
    "video_counts"
   ]
  }
 ],
 "metadata": {
  "kernelspec": {
   "display_name": "Python 3.10.10 ('MachineLearning')",
   "language": "python",
   "name": "python3"
  },
  "language_info": {
   "codemirror_mode": {
    "name": "ipython",
    "version": 3
   },
   "file_extension": ".py",
   "mimetype": "text/x-python",
   "name": "python",
   "nbconvert_exporter": "python",
   "pygments_lexer": "ipython3",
   "version": "3.10.10"
  },
  "orig_nbformat": 4,
  "vscode": {
   "interpreter": {
    "hash": "3a2c952ceb315243f34ba302acbe0fb5218585a422897d4fb07b81cc17398136"
   }
  }
 },
 "nbformat": 4,
 "nbformat_minor": 2
}
