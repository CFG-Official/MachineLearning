{
 "cells": [
  {
   "cell_type": "code",
   "execution_count": null,
   "metadata": {},
   "outputs": [],
   "source": [
    "import pandas as pd\n",
    "import matplotlib.pyplot as plt\n",
    "from pathlib import Path\n",
    "# Lista dei nomi dei file CSV dei modelli\n",
    "metrics_dir_path = Path.cwd() / \"metrics\"\n",
    "\n",
    "if not metrics_dir_path.is_dir():\n",
    "    raise Exception(\"Directory metrics non trovata!\")\n",
    "\n",
    "datasets_dir_paths = {metrics_dir_path / \"full_custom_metrics\", metrics_dir_path / \"only_0_metrics\", metrics_dir_path / \"only_mivia_metrics\"}\n",
    "\n",
    "for dataset_dir_path in list(datasets_dir_paths):\n",
    "    if not dataset_dir_path.is_dir():\n",
    "        raise Exception(f\"Directory {dataset_dir_path} non trovata!\")\n",
    "\n",
    "SELECTED_DIR_PATH = metrics_dir_path / \"only_0_metrics\" ####################### Cambiare questa riga per cambiare dataset #######################\n",
    "\n",
    "if not SELECTED_DIR_PATH in datasets_dir_paths:\n",
    "    raise Exception(f\"Directory {SELECTED_DIR_PATH} non trovata!\")\n",
    "\n",
    "\n",
    "model_files = list(SELECTED_DIR_PATH.glob(\"*.csv\"))\n",
    "\n",
    "if len(model_files) == 0:\n",
    "    raise Exception(f\"Non sono stati trovati file CSV in {SELECTED_DIR_PATH}!\")\n",
    "\n",
    "# Creiamo una lista di DataFrame, uno per ciascun modello\n",
    "model_dfs = [pd.read_csv(file) for file in model_files]\n",
    "\n",
    "# Grafico a barre per le metriche precision, recall e nand\n",
    "metrics = ['precision', 'recall', 'nand']\n"
   ]
  },
  {
   "cell_type": "code",
   "execution_count": null,
   "metadata": {},
   "outputs": [],
   "source": [
    "model_dfs[-1].head()"
   ]
  },
  {
   "cell_type": "code",
   "execution_count": null,
   "metadata": {},
   "outputs": [],
   "source": [
    "# Create a histogram that shows the differences between models on the metricsù\n",
    "# get tre type of gray\n",
    "def histogram(df, title):\n",
    "    grays = ['#444444', '#CCCCCC', '#999999']\n",
    "    ax = df.plot.bar(figsize=(10, 5), rot=0, color=grays)\n",
    "    ax.legend(loc='upper right', bbox_to_anchor=(1.0, 0.21))\n",
    "    ax.set_title(title)\n",
    "    ax.grid(axis='y')\n",
    "\n",
    "\n",
    "# Compute the mean over the column of each metrics\n",
    "mean_metrics = [df[metrics].mean() for df in model_dfs]\n",
    "# Create a DataFrame with the mean of each metrics\n",
    "mean_metrics_df = pd.DataFrame(mean_metrics, index=[file.stem for file in model_files])\n",
    "\n",
    "# Histogram based on the mean metric over each weights file\n",
    "histogram(mean_metrics_df, 'Mean metrics for each model')\n",
    "\n",
    "# Get the row that maximizes the fds\n",
    "max_fds = [df[df[\"fds\"] == df[\"fds\"].max()][metrics].drop_duplicates() for df in model_dfs]\n",
    "\n",
    "# Merge the rows in a DataFrame, one for each model and each metric separeted in a different column\n",
    "max_fds_df = pd.concat(max_fds, axis=0)\n",
    "max_fds_df.index = [file.stem for file in model_files]\n",
    "\n",
    "# Histogram based on the metrics of the best weights file (the one that maximizes the fds)\n",
    "histogram(max_fds_df, \"Maximized metrics for each model\")"
   ]
  }
 ],
 "metadata": {
  "kernelspec": {
   "display_name": "MachineLearning",
   "language": "python",
   "name": "python3"
  },
  "language_info": {
   "codemirror_mode": {
    "name": "ipython",
    "version": 3
   },
   "file_extension": ".py",
   "mimetype": "text/x-python",
   "name": "python",
   "nbconvert_exporter": "python",
   "pygments_lexer": "ipython3",
   "version": "3.10.10"
  },
  "orig_nbformat": 4
 },
 "nbformat": 4,
 "nbformat_minor": 2
}
