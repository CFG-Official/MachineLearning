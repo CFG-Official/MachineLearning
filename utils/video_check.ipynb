{
 "cells": [
  {
   "cell_type": "code",
   "execution_count": 5,
   "metadata": {},
   "outputs": [
    {
     "name": "stdout",
     "output_type": "stream",
     "text": [
      "Impossibile aprire il video 1: 1.mp4\n"
     ]
    },
    {
     "name": "stderr",
     "output_type": "stream",
     "text": [
      "OpenCV: Couldn't read video stream from file \"1.mp4\"\n",
      "OpenCV: Couldn't read video stream from file \"0.mp4\"\n"
     ]
    }
   ],
   "source": [
    "import cv2\n",
    "\n",
    "def confronta_video(video1, video2):\n",
    "    cap1 = cv2.VideoCapture(video1)\n",
    "    cap2 = cv2.VideoCapture(video2)\n",
    "\n",
    "    # Verifica se i video possono essere aperti correttamente\n",
    "    if not cap1.isOpened():\n",
    "        print(f\"Impossibile aprire il video 1: {video1}\")\n",
    "        return\n",
    "\n",
    "    if not cap2.isOpened():\n",
    "        print(f\"Impossibile aprire il video 2: {video2}\")\n",
    "        return\n",
    "\n",
    "    # Ottieni il numero totale di frame nei due video\n",
    "    total_frames1 = int(cap1.get(cv2.CAP_PROP_FRAME_COUNT))\n",
    "    total_frames2 = int(cap2.get(cv2.CAP_PROP_FRAME_COUNT))\n",
    "\n",
    "    #print(f\"Numero totale di frame nel video 1: {total_frames1}\")\n",
    "    #print(f\"Numero totale di frame nel video 2: {total_frames2}\")\n",
    "\n",
    "    # Imposta il numero massimo di frame da confrontare\n",
    "    max_frames = min(total_frames1, total_frames2)\n",
    "\n",
    "    # Inizializza il conteggio dei frame uguali\n",
    "    frame_uguali = 0\n",
    "\n",
    "    for frame_index in range(max_frames):\n",
    "        # Leggi i frame dai due video\n",
    "        ret1, frame1 = cap1.read()\n",
    "        ret2, frame2 = cap2.read()\n",
    "\n",
    "        # Se uno dei due frame non può essere letto, esci dal ciclo\n",
    "        if not ret1 or not ret2:\n",
    "            break\n",
    "        \n",
    "        # Ridimensiona i frame per adattarli alle stesse dimensioni\n",
    "        frame1 = cv2.resize(frame1, (640, 480))\n",
    "        frame2 = cv2.resize(frame2, (640, 480))\n",
    "\n",
    "        # Converti i frame in scala di grigi per facilitare il confronto\n",
    "        gray1 = cv2.cvtColor(frame1, cv2.COLOR_BGR2GRAY)\n",
    "        gray2 = cv2.cvtColor(frame2, cv2.COLOR_BGR2GRAY)\n",
    "\n",
    "        # Calcola la differenza assoluta tra i due frame\n",
    "        diff = cv2.absdiff(gray1, gray2)\n",
    "\n",
    "        # Se la differenza è inferiore a una certa soglia, consideriamo i frame uguali\n",
    "        if cv2.countNonZero(diff) == 0:\n",
    "            frame_uguali += 1\n",
    "\n",
    "    # Calcola la percentuale di somiglianza tra i due video\n",
    "    percentuale_somiglianza = (frame_uguali / max_frames) * 100\n",
    "\n",
    "    # Chiudi i video\n",
    "    cap1.release()\n",
    "    cap2.release()\n",
    "\n",
    "    return percentuale_somiglianza\n",
    "\n",
    "confronta_video(\"1.mp4\", \"0.mp4\") "
   ]
  },
  {
   "cell_type": "code",
   "execution_count": 18,
   "metadata": {},
   "outputs": [
    {
     "name": "stderr",
     "output_type": "stream",
     "text": [
      "  0%|          | 0/9 [00:00<?, ?it/s]"
     ]
    },
    {
     "name": "stdout",
     "output_type": "stream",
     "text": [
      "('Video0.mp4', 'Video0.mp4')\n"
     ]
    },
    {
     "name": "stderr",
     "output_type": "stream",
     "text": [
      " 11%|█         | 1/9 [00:05<00:46,  5.76s/it]"
     ]
    },
    {
     "name": "stdout",
     "output_type": "stream",
     "text": [
      "('Video0.mp4', 'Video1.mp4')\n"
     ]
    },
    {
     "name": "stderr",
     "output_type": "stream",
     "text": [
      " 22%|██▏       | 2/9 [00:08<00:28,  4.05s/it]"
     ]
    },
    {
     "name": "stdout",
     "output_type": "stream",
     "text": [
      "('Video0.mp4', 'Video2.mp4')\n"
     ]
    },
    {
     "name": "stderr",
     "output_type": "stream",
     "text": [
      " 33%|███▎      | 3/9 [00:09<00:14,  2.38s/it]"
     ]
    },
    {
     "name": "stdout",
     "output_type": "stream",
     "text": [
      "('Video1.mp4', 'Video0.mp4')\n"
     ]
    },
    {
     "name": "stderr",
     "output_type": "stream",
     "text": [
      " 44%|████▍     | 4/9 [00:11<00:12,  2.59s/it]"
     ]
    },
    {
     "name": "stdout",
     "output_type": "stream",
     "text": [
      "('Video1.mp4', 'Video1.mp4')\n"
     ]
    },
    {
     "name": "stderr",
     "output_type": "stream",
     "text": [
      " 56%|█████▌    | 5/9 [00:17<00:14,  3.60s/it]"
     ]
    },
    {
     "name": "stdout",
     "output_type": "stream",
     "text": [
      "('Video1.mp4', 'Video2.mp4')\n"
     ]
    },
    {
     "name": "stderr",
     "output_type": "stream",
     "text": [
      " 67%|██████▋   | 6/9 [00:19<00:09,  3.13s/it]"
     ]
    },
    {
     "name": "stdout",
     "output_type": "stream",
     "text": [
      "('Video2.mp4', 'Video0.mp4')\n"
     ]
    },
    {
     "name": "stderr",
     "output_type": "stream",
     "text": [
      " 78%|███████▊  | 7/9 [00:20<00:04,  2.26s/it]"
     ]
    },
    {
     "name": "stdout",
     "output_type": "stream",
     "text": [
      "('Video2.mp4', 'Video1.mp4')\n"
     ]
    },
    {
     "name": "stderr",
     "output_type": "stream",
     "text": [
      " 89%|████████▉ | 8/9 [00:22<00:02,  2.24s/it]"
     ]
    },
    {
     "name": "stdout",
     "output_type": "stream",
     "text": [
      "('Video2.mp4', 'Video2.mp4')\n"
     ]
    },
    {
     "name": "stderr",
     "output_type": "stream",
     "text": [
      "100%|██████████| 9/9 [00:22<00:00,  2.54s/it]"
     ]
    },
    {
     "name": "stdout",
     "output_type": "stream",
     "text": [
      "Video0.mp4 {'Video0.mp4': 100.0, 'Video1.mp4': 0.0, 'Video2.mp4': 0.0}\n",
      "Video1.mp4 {'Video0.mp4': 0.0, 'Video1.mp4': 100.0, 'Video2.mp4': 0.0}\n",
      "Video2.mp4 {'Video0.mp4': 0.0, 'Video1.mp4': 0.0, 'Video2.mp4': 100.0}\n"
     ]
    },
    {
     "name": "stderr",
     "output_type": "stream",
     "text": [
      "\n"
     ]
    }
   ],
   "source": [
    "import os\n",
    "import concurrent.futures\n",
    "from tqdm import tqdm\n",
    "\n",
    "def confronta_video_cartelle_parallel(cartella1, cartella2, soglia_somiglianza):\n",
    "    # Recupera la lista dei file video nella prima cartella\n",
    "    video1_list = [file for file in os.listdir(cartella1) if file.endswith(('.mp4', '.avi'))]\n",
    "\n",
    "    # Recupera la lista dei file video nella seconda cartella\n",
    "    video2_list = [file for file in os.listdir(cartella2) if file.endswith(('.mp4', '.avi'))]\n",
    "\n",
    "    # Creeo una matrice dei risultati, righe = video1, colonne = video2 usando un dict\n",
    "    results = {video1: {video2: None for video2 in video2_list} for video1 in video1_list}\n",
    "\n",
    "    # Crea una lista di coppie di video da confrontare\n",
    "    video_pairs = [(video1, video2) for video1 in video1_list for video2 in video2_list]\n",
    "\n",
    "    # Funzione per confrontare un singolo paio di video\n",
    "    def confronta_video_pair(video_pair):\n",
    "        print(video_pair)\n",
    "        video1 = video_pair[0]\n",
    "        video2 = video_pair[1]\n",
    "\n",
    "        # Crea i percorsi completi per i video\n",
    "        video1_path = os.path.join(cartella1, video1)\n",
    "        video2_path = os.path.join(cartella2, video2)\n",
    "\n",
    "        # Esegui il confronto tra i video\n",
    "        percentuale_somiglianza = confronta_video(video1_path, video2_path)\n",
    "\n",
    "        return percentuale_somiglianza\n",
    "\n",
    "    # Esegui il confronto per ogni coppia di video\n",
    "    for pair in tqdm(video_pairs):\n",
    "        results[pair[0]][pair[1]] = confronta_video_pair(pair)\n",
    "\n",
    "    # Restitusici la matrice dei risultati\n",
    "    return results\n",
    "\n",
    "# Utilizzo della funzione\n",
    "cartella1 = \"../data/EXAMPLE/0\"\n",
    "cartella2 = \"../data/EXAMPLE/0\"\n",
    "soglia_somiglianza = 30\n",
    "\n",
    "res = confronta_video_cartelle_parallel(cartella1, cartella2, soglia_somiglianza)\n",
    "\n",
    "for item in res:\n",
    "    print(item, res[item])\n"
   ]
  }
 ],
 "metadata": {
  "kernelspec": {
   "display_name": "Python 3.10.10 ('MachineLearning')",
   "language": "python",
   "name": "python3"
  },
  "language_info": {
   "codemirror_mode": {
    "name": "ipython",
    "version": 3
   },
   "file_extension": ".py",
   "mimetype": "text/x-python",
   "name": "python",
   "nbconvert_exporter": "python",
   "pygments_lexer": "ipython3",
   "version": "3.10.10"
  },
  "orig_nbformat": 4,
  "vscode": {
   "interpreter": {
    "hash": "3a2c952ceb315243f34ba302acbe0fb5218585a422897d4fb07b81cc17398136"
   }
  }
 },
 "nbformat": 4,
 "nbformat_minor": 2
}
