{
 "cells": [
  {
   "cell_type": "code",
   "execution_count": 2,
   "metadata": {},
   "outputs": [],
   "source": [
    "from pathlib import Path\n",
    "\n",
    "def find_fire_detection_dir():\n",
    "    path = Path.cwd()\n",
    "    if path.name == \"MachineLearning\":\n",
    "        return path\n",
    "    for parent in path.parents:\n",
    "        if parent.name == \"MachineLearning\":\n",
    "            return parent\n",
    "    raise Exception(\"MachineLearning directory not found\")\n",
    "\n",
    "\n",
    "project_root = find_fire_detection_dir()\n",
    "src_folder_path = project_root / \"src\"\n",
    "weights_folder_path = project_root / \"weights\""
   ]
  },
  {
   "cell_type": "code",
   "execution_count": 3,
   "metadata": {},
   "outputs": [],
   "source": [
    "# A scrip that moves each best model from a specified folder to the folder of weights, then run the test and save the results in csv files\n",
    "\n",
    "import os\n",
    "import sys\n",
    "import shutil\n",
    "import subprocess\n",
    "import argparse\n",
    "import glob\n",
    "from pathlib import Path\n",
    "import pandas as pd\n",
    "\n",
    "\n",
    "model = \"x3d_xs.pth\"\n",
    "experiments_name = [\"x3d_xs 3-trained\", \"x3d_xs 4-trained\", \"x3d_xs all-trained\"]\n",
    "test_command = \"python \" + str(src_folder_path / \"test.py\")  + \" --videos ../test_data/TEST_SET/ --results ../test_data/TEST_RESULTS/ --ground_truth ../test_data/GT_TEST_SET/ --model x3d_xs --clip_len 13 --clip_stride 13\""
   ]
  },
  {
   "cell_type": "code",
   "execution_count": 4,
   "metadata": {},
   "outputs": [
    {
     "ename": "SyntaxError",
     "evalue": "invalid syntax. Perhaps you forgot a comma? (4217025407.py, line 23)",
     "output_type": "error",
     "traceback": [
      "\u001b[1;36m  Cell \u001b[1;32mIn[4], line 23\u001b[1;36m\u001b[0m\n\u001b[1;33m    metrics = pd.read_csv(\"../test_data/TEST_RESULTS/{}.csv\".format{experiment_name})\u001b[0m\n\u001b[1;37m                          ^\u001b[0m\n\u001b[1;31mSyntaxError\u001b[0m\u001b[1;31m:\u001b[0m invalid syntax. Perhaps you forgot a comma?\n"
     ]
    }
   ],
   "source": [
    "for experiment_name in experiments_name:\n",
    "    best_model_folder = src_folder_path / \"experiments\" / experiment_name\n",
    "\n",
    "    # Get all the files in best_model_folder that end with .pth and are called best_model, sort them\n",
    "    best_model_files = glob.glob(str(best_model_folder) + \"/best_model*.pth\")\n",
    "    best_model_files.sort(key=lambda x: int(x.split(\"_\")[-1].split(\".\")[0]))\n",
    "\n",
    "    print(\"Going to test {} models...\".format(len(best_model_files)))\n",
    "\n",
    "    # Create pandas dataframe to store the results, the columns are the metrics\n",
    "    df = pd.DataFrame(columns=[\"best_model\", \"precision\", \"recall\", \"f-score\", \"dme\", \"dd\", \"fsn\", \"mmo\"])\n",
    "\n",
    "    for i,best_model in enumerate(best_model_files):\n",
    "        best_model = Path(best_model)\n",
    "        print(\"Best model: {}/{}\".format(best_model.parent.name, best_model.name))\n",
    "        # Copy the best_model file in the weights folder and rename it as model\n",
    "        shutil.copy(best_model, weights_folder_path / model)\n",
    "\n",
    "        # Run the test and collect the output\n",
    "        output = subprocess.run(test_command.split(\" \"), capture_output=True)\n",
    "\n",
    "        # Get the metrics from the output and add them to the dataframe\n",
    "        metrics = pd.read_csv(\"../test_data/TEST_RESULTS/metrics.csv\")\n",
    "        df.loc[i] = [best_model.name, metrics[\"precision\"][0], metrics[\"recall\"][0], metrics[\"f-score\"][0], metrics[\"dme\"][0], metrics[\"dd\"][0], metrics[\"fsn\"][0], metrics[\"mmo\"][0]]\n",
    "        # Delete the model from the weights folder\n",
    "        os.remove(weights_folder_path / model)\n",
    "    \n",
    "    # Save the dataframe in a csv file\n",
    "    df.to_csv(Path.cwd() / \"{}.csv\".format(experiment_name))"
   ]
  },
  {
   "cell_type": "code",
   "execution_count": null,
   "metadata": {},
   "outputs": [],
   "source": []
  }
 ],
 "metadata": {
  "kernelspec": {
   "display_name": "Python 3.10.10 ('MachineLearning')",
   "language": "python",
   "name": "python3"
  },
  "language_info": {
   "codemirror_mode": {
    "name": "ipython",
    "version": 3
   },
   "file_extension": ".py",
   "mimetype": "text/x-python",
   "name": "python",
   "nbconvert_exporter": "python",
   "pygments_lexer": "ipython3",
   "version": "3.10.10"
  },
  "orig_nbformat": 4,
  "vscode": {
   "interpreter": {
    "hash": "3a2c952ceb315243f34ba302acbe0fb5218585a422897d4fb07b81cc17398136"
   }
  }
 },
 "nbformat": 4,
 "nbformat_minor": 2
}
